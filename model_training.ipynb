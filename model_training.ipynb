{
 "cells": [
  {
   "cell_type": "markdown",
   "id": "f49013bd",
   "metadata": {},
   "source": [
    "# Flooding Noise detection with YamNet, XGBoost and transfer learning"
   ]
  },
  {
   "cell_type": "code",
   "execution_count": 4,
   "id": "fd245b82",
   "metadata": {},
   "outputs": [],
   "source": [
    "import os\n",
    "\n",
    "from IPython import display\n",
    "import matplotlib.pyplot as plt\n",
    "import numpy as np\n",
    "import pandas as pd\n",
    "from sklearn.utils import shuffle\n",
    "\n",
    "import tensorflow as tf\n",
    "import tensorflow_hub as hub\n",
    "import tensorflow_io as tfio\n",
    "import xgboost as xgb\n",
    "from sklearn.metrics import accuracy_score\n",
    "import seaborn as sns"
   ]
  },
  {
   "cell_type": "markdown",
   "id": "5317cd95",
   "metadata": {},
   "source": [
    "## Preprocessing\n",
    "First, we create a dataframe with the sound file locations, their label (name and encoding) and their fold (i.e. train/test split)"
   ]
  },
  {
   "cell_type": "code",
   "execution_count": 5,
   "id": "182f9e0e",
   "metadata": {},
   "outputs": [
    {
     "name": "stdout",
     "output_type": "stream",
     "text": [
      "fold\n",
      "0    2220\n",
      "1     554\n",
      "dtype: int64\n"
     ]
    },
    {
     "data": {
      "text/html": [
       "<div>\n",
       "<style scoped>\n",
       "    .dataframe tbody tr th:only-of-type {\n",
       "        vertical-align: middle;\n",
       "    }\n",
       "\n",
       "    .dataframe tbody tr th {\n",
       "        vertical-align: top;\n",
       "    }\n",
       "\n",
       "    .dataframe thead th {\n",
       "        text-align: right;\n",
       "    }\n",
       "</style>\n",
       "<table border=\"1\" class=\"dataframe\">\n",
       "  <thead>\n",
       "    <tr style=\"text-align: right;\">\n",
       "      <th></th>\n",
       "      <th>filename</th>\n",
       "      <th>fold</th>\n",
       "      <th>target</th>\n",
       "      <th>category</th>\n",
       "    </tr>\n",
       "  </thead>\n",
       "  <tbody>\n",
       "    <tr>\n",
       "      <th>0</th>\n",
       "      <td>sound_full/yes/stream-speech-3288.wav</td>\n",
       "      <td>0</td>\n",
       "      <td>0</td>\n",
       "      <td>stream</td>\n",
       "    </tr>\n",
       "    <tr>\n",
       "      <th>1</th>\n",
       "      <td>sound_full/yes/stream-speech-2175.wav</td>\n",
       "      <td>0</td>\n",
       "      <td>0</td>\n",
       "      <td>stream</td>\n",
       "    </tr>\n",
       "    <tr>\n",
       "      <th>2</th>\n",
       "      <td>sound_full/yes/stream-speech-1216.wav</td>\n",
       "      <td>0</td>\n",
       "      <td>0</td>\n",
       "      <td>stream</td>\n",
       "    </tr>\n",
       "    <tr>\n",
       "      <th>3</th>\n",
       "      <td>sound_full/no/rain-2764.wav</td>\n",
       "      <td>0</td>\n",
       "      <td>1</td>\n",
       "      <td>other</td>\n",
       "    </tr>\n",
       "    <tr>\n",
       "      <th>4</th>\n",
       "      <td>sound_full/no/rain-338.wav</td>\n",
       "      <td>0</td>\n",
       "      <td>1</td>\n",
       "      <td>other</td>\n",
       "    </tr>\n",
       "  </tbody>\n",
       "</table>\n",
       "</div>"
      ],
      "text/plain": [
       "                                filename  fold  target category\n",
       "0  sound_full/yes/stream-speech-3288.wav     0       0   stream\n",
       "1  sound_full/yes/stream-speech-2175.wav     0       0   stream\n",
       "2  sound_full/yes/stream-speech-1216.wav     0       0   stream\n",
       "3            sound_full/no/rain-2764.wav     0       1    other\n",
       "4             sound_full/no/rain-338.wav     0       1    other"
      ]
     },
     "execution_count": 5,
     "metadata": {},
     "output_type": "execute_result"
    }
   ],
   "source": [
    "df = pd.DataFrame({'filename':[], 'fold':[], 'target':[], 'category':[]})\n",
    "\n",
    "directory = 'sound_full/yes'\n",
    "for filename in os.listdir(directory):\n",
    "    df = df.append({'filename':f'{directory}/{filename}', 'fold':0, 'target':0, 'category':'stream'}\n",
    "             , ignore_index=True)\n",
    "\n",
    "directory = 'sound_full/no'\n",
    "for filename in os.listdir(directory):\n",
    "    df = df.append({'filename':f'{directory}/{filename}', 'fold':0, 'target':1, 'category':'other'}\n",
    "             , ignore_index=True)\n",
    "df['target'] = df.target.astype('int')\n",
    "df['fold'] = df.fold.astype('int')\n",
    "df = shuffle(df)\n",
    "df.reset_index(drop=True, inplace=True)\n",
    "df['fold'] = df.apply(lambda x:0 if int(x.name)<=int(0.8*len(df)) else 1 , axis=1)\n",
    "\n",
    "print(df.groupby('fold').size())\n",
    "df.head()"
   ]
  },
  {
   "cell_type": "markdown",
   "id": "5e9ff385",
   "metadata": {},
   "source": [
    "We build the TensorFlow Dataset"
   ]
  },
  {
   "cell_type": "code",
   "execution_count": 7,
   "id": "a78c8747",
   "metadata": {},
   "outputs": [
    {
     "data": {
      "text/plain": [
       "(TensorSpec(shape=(), dtype=tf.string, name=None),\n",
       " TensorSpec(shape=(), dtype=tf.int64, name=None),\n",
       " TensorSpec(shape=(), dtype=tf.int64, name=None))"
      ]
     },
     "execution_count": 7,
     "metadata": {},
     "output_type": "execute_result"
    }
   ],
   "source": [
    "filenames = df['filename']\n",
    "targets = df['target']\n",
    "folds = df['fold']\n",
    "\n",
    "main_ds = tf.data.Dataset.from_tensor_slices((filenames, targets, folds))\n",
    "main_ds.element_spec"
   ]
  },
  {
   "cell_type": "markdown",
   "id": "a11e68bd",
   "metadata": {},
   "source": [
    "Now, we extract the arrays from the wave files"
   ]
  },
  {
   "cell_type": "code",
   "execution_count": 8,
   "id": "6227d63a",
   "metadata": {},
   "outputs": [],
   "source": [
    "@tf.function\n",
    "def load_wav_16k_mono(filename):\n",
    "    \"\"\" Load a WAV file, convert it to a float tensor, resample to 16 kHz single-channel audio. \"\"\"\n",
    "    file_contents = tf.io.read_file(filename)\n",
    "    wav, sample_rate = tf.audio.decode_wav(\n",
    "          file_contents,\n",
    "          desired_channels=1)\n",
    "    wav = tf.squeeze(wav, axis=-1)\n",
    "    sample_rate = tf.cast(sample_rate, dtype=tf.int64)\n",
    "    wav = tfio.audio.resample(wav, rate_in=sample_rate, rate_out=16000)\n",
    "    return wav"
   ]
  },
  {
   "cell_type": "code",
   "execution_count": 9,
   "id": "29309ead",
   "metadata": {},
   "outputs": [
    {
     "name": "stdout",
     "output_type": "stream",
     "text": [
      "WARNING:tensorflow:From /home/nathanael/anaconda3/lib/python3.8/site-packages/tensorflow/python/ops/parallel_for/pfor.py:2380: calling gather (from tensorflow.python.ops.array_ops) with validate_indices is deprecated and will be removed in a future version.\n",
      "Instructions for updating:\n",
      "The `validate_indices` argument has no effect. Indices are always validated on CPU and never validated on GPU.\n",
      "WARNING:tensorflow:Using a while_loop for converting IO>AudioResample\n"
     ]
    },
    {
     "data": {
      "text/plain": [
       "(TensorSpec(shape=<unknown>, dtype=tf.float32, name=None),\n",
       " TensorSpec(shape=(), dtype=tf.int64, name=None),\n",
       " TensorSpec(shape=(), dtype=tf.int64, name=None))"
      ]
     },
     "execution_count": 9,
     "metadata": {},
     "output_type": "execute_result"
    }
   ],
   "source": [
    "def load_wav_for_map(filename, label, fold):\n",
    "  return load_wav_16k_mono(filename), label, fold\n",
    "\n",
    "main_ds = main_ds.map(load_wav_for_map)\n",
    "main_ds.element_spec"
   ]
  },
  {
   "cell_type": "markdown",
   "id": "0bd90780",
   "metadata": {},
   "source": [
    "We load the YamNet model and compute its feature for the dataset:"
   ]
  },
  {
   "cell_type": "code",
   "execution_count": 11,
   "id": "73d81f03",
   "metadata": {},
   "outputs": [],
   "source": [
    "yamnet_model_handle = 'https://tfhub.dev/google/yamnet/1'\n",
    "yamnet_model = hub.load(yamnet_model_handle)"
   ]
  },
  {
   "cell_type": "code",
   "execution_count": 12,
   "id": "1dcb9630",
   "metadata": {},
   "outputs": [],
   "source": [
    "# applies the embedding extraction model to a wav data\n",
    "def extract_embedding(wav_data, label, fold):\n",
    "  ''' run YAMNet to extract embedding from the wav data '''\n",
    "  cores, embeddings, spectrogram = yamnet_model(wav_data)\n",
    "  num_embeddings = tf.shape(embeddings)[0]\n",
    "  return (embeddings,\n",
    "            tf.repeat(label, num_embeddings),\n",
    "            tf.repeat(fold, num_embeddings))\n",
    "\n",
    "# extract embedding\n",
    "main_ds = main_ds.map(extract_embedding).unbatch()"
   ]
  },
  {
   "cell_type": "markdown",
   "id": "b5f162ed",
   "metadata": {},
   "source": [
    "We do the train/test split"
   ]
  },
  {
   "cell_type": "code",
   "execution_count": 13,
   "id": "41ae3186",
   "metadata": {},
   "outputs": [],
   "source": [
    "cached_ds = main_ds.cache()\n",
    "train_ds = cached_ds.filter(lambda embedding, label, fold: fold ==0)\n",
    "test_ds = cached_ds.filter(lambda embedding, label, fold: fold == 1)\n",
    "\n",
    "# remove the folds column now that it's not needed anymore\n",
    "remove_fold_column = lambda embedding, label, fold: (embedding, label)\n",
    "\n",
    "train_ds = train_ds.map(remove_fold_column)\n",
    "test_ds = test_ds.map(remove_fold_column)"
   ]
  },
  {
   "cell_type": "markdown",
   "id": "878f19e7",
   "metadata": {},
   "source": [
    "We convert the train/test sets into numpy to be compatible with XGBoost:"
   ]
  },
  {
   "cell_type": "code",
   "execution_count": null,
   "id": "f1a1ca59",
   "metadata": {},
   "outputs": [],
   "source": [
    "def turn_numpy(ds):\n",
    "    data = []\n",
    "    label = []\n",
    "    for i, (x,y) in enumerate(ds):\n",
    "        data.append(x)\n",
    "        label.append(y)\n",
    "    data = np.stack(data)\n",
    "    label = np.stack(label).reshape(-1,1)\n",
    "    return data, label\n",
    "x_train, y_train = turn_numpy(train_ds)\n",
    "X_test, y_test = turn_numpy(test_ds)"
   ]
  },
  {
   "cell_type": "markdown",
   "id": "7602e5f0",
   "metadata": {},
   "source": [
    "We train an XGBoost Classifier:"
   ]
  },
  {
   "cell_type": "code",
   "execution_count": 17,
   "id": "3caca58a",
   "metadata": {},
   "outputs": [
    {
     "name": "stdout",
     "output_type": "stream",
     "text": [
      "[12:21:07] WARNING: /tmp/build/80754af9/xgboost-split_1619724447847/work/src/learner.cc:1061: Starting in XGBoost 1.3.0, the default evaluation metric used with the objective 'binary:logistic' was changed from 'error' to 'logloss'. Explicitly set eval_metric if you'd like to restore the old behavior.\n"
     ]
    },
    {
     "data": {
      "text/plain": [
       "0.7093667666030707"
      ]
     },
     "execution_count": 17,
     "metadata": {},
     "output_type": "execute_result"
    }
   ],
   "source": [
    "xgb_cl = xgb.XGBClassifier(use_label_encoder=False)\n",
    "xgb_cl.fit(x_train, y_train)\n",
    "preds = xgb_cl.predict(X_test)\n",
    "accuracy_score(y_test, preds)"
   ]
  },
  {
   "cell_type": "markdown",
   "id": "32a3c47f",
   "metadata": {},
   "source": [
    "The confusion matrix:"
   ]
  },
  {
   "cell_type": "code",
   "execution_count": 18,
   "id": "28b49714",
   "metadata": {},
   "outputs": [
    {
     "data": {
      "image/png": "[encoded data removed]",
      "text/plain": [
       "<Figure size 720x576 with 2 Axes>"
      ]
     },
     "metadata": {
      "needs_background": "light"
     },
     "output_type": "display_data"
    }
   ],
   "source": [
    "confusion_mtx = tf.math.confusion_matrix(y_test, preds) \n",
    "plt.figure(figsize=(10, 8))\n",
    "sns.heatmap(confusion_mtx, xticklabels=['stream', 'other'], yticklabels=['stream', 'other'], \n",
    "            annot=True, fmt='g')\n",
    "plt.xlabel('Prediction')\n",
    "plt.ylabel('Label')\n",
    "plt.show()"
   ]
  },
  {
   "cell_type": "code",
   "execution_count": 19,
   "id": "bb03f4f5",
   "metadata": {},
   "outputs": [],
   "source": [
    "xgb_cl.save_model(\"xgboost_model.json\")"
   ]
  },
  {
   "cell_type": "code",
   "execution_count": null,
   "id": "e7be0b7a",
   "metadata": {},
   "outputs": [],
   "source": []
  }
 ],
 "metadata": {
  "kernelspec": {
   "display_name": "Python 3.8.5 64-bit ('anaconda3': virtualenv)",
   "language": "python",
   "name": "python385jvsc74a57bd09977e029b2da6177bb9bc7be3b4cc732c21fce726b7c7753acdf2f8f3db06ed7"
  },
  "language_info": {
   "codemirror_mode": {
    "name": "ipython",
    "version": 3
   },
   "file_extension": ".py",
   "mimetype": "text/x-python",
   "name": "python",
   "nbconvert_exporter": "python",
   "pygments_lexer": "ipython3",
   "version": "3.8.5"
  }
 },
 "nbformat": 4,
 "nbformat_minor": 5
}
